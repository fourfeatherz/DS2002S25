{
  "nbformat": 4,
  "nbformat_minor": 0,
  "metadata": {
    "colab": {
      "provenance": [],
      "authorship_tag": "ABX9TyMIRAkQue0bKakE738A42oH",
      "include_colab_link": true
    },
    "kernelspec": {
      "name": "python3",
      "display_name": "Python 3"
    },
    "language_info": {
      "name": "python"
    }
  },
  "cells": [
    {
      "cell_type": "markdown",
      "metadata": {
        "id": "view-in-github",
        "colab_type": "text"
      },
      "source": [
        "<a href=\"https://colab.research.google.com/github/fourfeatherz/DS2002S25/blob/main/python/MongoTut.ipynb\" target=\"_parent\"><img src=\"https://colab.research.google.com/assets/colab-badge.svg\" alt=\"Open In Colab\"/></a>"
      ]
    },
    {
      "cell_type": "code",
      "execution_count": null,
      "metadata": {
        "id": "RQMSZku71iyA"
      },
      "outputs": [],
      "source": [
        "# MongoDB Atlas Querying in Google Colab\n",
        "!pip install pymongo"
      ]
    },
    {
      "cell_type": "code",
      "source": [
        "from pymongo import MongoClient"
      ],
      "metadata": {
        "id": "1FelCC_X1mDT"
      },
      "execution_count": null,
      "outputs": []
    },
    {
      "cell_type": "code",
      "source": [
        "username = \"<your user name>\"\n",
        "password = \"<your passowrd>\"\n",
        "cluster_url = \"<your custer ID>\"\n",
        "\n"
      ],
      "metadata": {
        "id": "5csUi04S1nUj"
      },
      "execution_count": null,
      "outputs": []
    },
    {
      "cell_type": "code",
      "source": [
        "connection_string = f\"mongodb+srv://{username}:{password}@{cluster_url}/?retryWrites=true&w=majority\"\n",
        "client = MongoClient(connection_string)\n",
        "db = client.sample_mflix"
      ],
      "metadata": {
        "id": "sTWVA4pA1ouj"
      },
      "execution_count": null,
      "outputs": []
    },
    {
      "cell_type": "code",
      "source": [
        "## Querying the Database\n",
        "query = { \"title\": \"Back to the Future\" }\n",
        "result = db.movies.find_one(query)\n",
        "print(result)"
      ],
      "metadata": {
        "id": "GBa-YqsM1ugT"
      },
      "execution_count": null,
      "outputs": []
    },
    {
      "cell_type": "code",
      "source": [
        "### Filtering Movies by Genre\n",
        "query = { \"genres\": \"Comedy\" }\n",
        "results = db.movies.find(query)\n",
        "for movie in results:\n",
        "    print(movie[\"title\"])"
      ],
      "metadata": {
        "id": "i6qR6aok1xFM"
      },
      "execution_count": null,
      "outputs": []
    },
    {
      "cell_type": "code",
      "source": [
        "### Finding Movies Released After 2000c\n",
        "query = { \"year\": { \"$gte\": 2000 } }\n",
        "results = db.movies.find(query)\n",
        "for movie in results:\n",
        "    print(movie[\"title\"], \"-\", movie[\"year\"])"
      ],
      "metadata": {
        "id": "7jGnaQQX10YB"
      },
      "execution_count": null,
      "outputs": []
    },
    {
      "cell_type": "code",
      "source": [
        "### Finding Highly Rated Movies\n",
        "query = { \"imdb.rating\": { \"$gte\": 8.5 } }\n",
        "results = db.movies.find(query)\n",
        "for movie in results:\n",
        "    print(movie[\"title\"], \"- IMDb Rating:\", movie[\"imdb\"][\"rating\"])"
      ],
      "metadata": {
        "id": "KZgd51A-123j"
      },
      "execution_count": null,
      "outputs": []
    },
    {
      "cell_type": "code",
      "source": [
        "### Finding Movies with Multiple Filters (AND Condition)\n",
        "query = { \"genres\": \"Action\", \"year\": { \"$gte\": 2010 } }\n",
        "results = db.movies.find(query)\n",
        "for movie in results:\n",
        "    print(movie[\"title\"], \"-\", movie[\"year\"])"
      ],
      "metadata": {
        "id": "8MwAkBoW15Zt"
      },
      "execution_count": null,
      "outputs": []
    },
    {
      "cell_type": "code",
      "source": [
        "### Finding Movies with Multiple Filters (OR Condition)\n",
        "\n",
        "query = { \"$or\": [ { \"genres\": \"Drama\" }, { \"year\": { \"$gte\": 2020 } } ] }\n",
        "results = db.movies.find(query)\n",
        "for movie in results:\n",
        "    print(movie[\"title\"], \"-\", movie[\"year\"])"
      ],
      "metadata": {
        "id": "J1Nqe2ey17pr"
      },
      "execution_count": null,
      "outputs": []
    },
    {
      "cell_type": "code",
      "source": [
        "### Searching for Movies by Actor Name\n",
        "query = { \"cast\": \"Tom Hanks\" }\n",
        "results = db.movies.find(query)\n",
        "for movie in results:\n",
        "    print(movie[\"title\"])"
      ],
      "metadata": {
        "id": "JT7vqzO71900"
      },
      "execution_count": null,
      "outputs": []
    },
    {
      "cell_type": "code",
      "source": [
        "### Counting the Number of Movies in the Collection\n",
        "\n",
        "count = db.movies.count_documents({})\n",
        "print(\"Total movies in the database:\", count)\n"
      ],
      "metadata": {
        "id": "u3xVolT31_1r"
      },
      "execution_count": null,
      "outputs": []
    },
    {
      "cell_type": "code",
      "source": [
        "### Finding Movies with Specific Ratings\n",
        "\n",
        "query = { \"rated\": { \"$in\": [\"PG\", \"PG-13\"] } }\n",
        "results = db.movies.find(query)\n",
        "for movie in results:\n",
        "    print(movie[\"title\"], \"- Rated:\", movie[\"rated\"])"
      ],
      "metadata": {
        "id": "JKK5sAbO2CQc"
      },
      "execution_count": null,
      "outputs": []
    }
  ]
}